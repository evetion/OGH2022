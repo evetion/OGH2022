{
 "cells": [
  {
   "cell_type": "markdown",
   "metadata": {},
   "source": [
    "# The Julia Package manager\n",
    "\n",
    "A key strength of Julia is that it is easy to reuse other peoples code. To facilitate this, Julia includes a package manager, named Pkg. Here are some of the things it does:\n",
    "\n",
    "- adding and removing packages\n",
    "- create project environments using Project.toml\n",
    "- allow fully reproducible projects using Manifest.toml\n",
    "- specifying compatibility with dependencies\n",
    "- facilitate developing packages\n",
    "\n",
    "## Links\n",
    "- Pkg documentation - https://julialang.github.io/Pkg.jl/v1/\n",
    "- BinaryBuilder, package binary dependencies - https://binarybuilder.org/\n",
    "- Package compiler, bundle relocatable projects - https://julialang.github.io/PackageCompiler.jl/dev/\n",
    "- General package registry - https://github.com/JuliaRegistries/General/\n",
    "- JuliaHub (beta), browse available packages - https://juliahub.com/\n",
    "- Julia Packages, browse available packages - https://juliapackages.com/"
   ]
  },
  {
   "cell_type": "code",
   "execution_count": 1,
   "metadata": {},
   "outputs": [
    {
     "name": "stdout",
     "output_type": "stream",
     "text": [
      "Julia Version 1.7.3\n",
      "Commit 742b9abb4d (2022-05-06 12:58 UTC)\n",
      "Platform Info:\n",
      "  OS: macOS (x86_64-apple-darwin21.4.0)\n",
      "  CPU: Apple M1 Max\n",
      "  WORD_SIZE: 64\n",
      "  LIBM: libopenlibm\n",
      "  LLVM: libLLVM-12.0.1 (ORCJIT, westmere)\n",
      "Environment:\n",
      "  JULIA_NUM_THREADS = 8\n"
     ]
    }
   ],
   "source": [
    "versioninfo()"
   ]
  },
  {
   "cell_type": "markdown",
   "metadata": {},
   "source": [
    "## Adding and removing packages"
   ]
  },
  {
   "cell_type": "markdown",
   "metadata": {},
   "source": [
    "The most convenient way to use the package manager is to use the Pkg REPL-mode. To enter the Pkg REPL-mode in an interactive session, type `]` in the prompt. The prompt indicator will go from `julia>` to `pkg>`. In a Jupyter notebook, just start the cell with `]` for the same effect. Remember that with `]?` you can always get help on the Pkg REPL-mode, and `]?add` for specific help for `add`, or any other command."
   ]
  },
  {
   "cell_type": "code",
   "execution_count": 2,
   "metadata": {
    "execution": {
     "iopub.execute_input": "2020-05-23T17:12:54.003Z",
     "iopub.status.busy": "2020-05-23T17:12:52.886Z",
     "iopub.status.idle": "2020-05-23T17:12:55.216Z"
    },
    "jupyter": {
     "outputs_hidden": false,
     "source_hidden": false
    },
    "nteract": {
     "transient": {
      "deleting": false
     }
    },
    "outputExpanded": false
   },
   "outputs": [
    {
     "name": "stdout",
     "output_type": "stream",
     "text": [
      "  \u001b[1mWelcome to the Pkg REPL-mode\u001b[22m. To return to the \u001b[36mjulia>\u001b[39m prompt, either press\n",
      "  backspace when the input line is empty or press Ctrl+C.\n",
      "\n",
      "  Full documentation available at https://pkgdocs.julialang.org/\n",
      "\n",
      "  \u001b[1mSynopsis\u001b[22m\n",
      "\n",
      "\u001b[36m  pkg> cmd [opts] [args]\u001b[39m\n",
      "\n",
      "  Multiple commands can be given on the same line by interleaving a \u001b[36m;\u001b[39m between\n",
      "  the commands. Some commands have an alias, indicated below.\n",
      "\n",
      "  \u001b[1mCommands\u001b[22m\n",
      "\n",
      "  \u001b[36mactivate\u001b[39m: set the primary environment the package manager manipulates\n",
      "\n",
      "  \u001b[36madd\u001b[39m: add packages to project\n",
      "\n",
      "  \u001b[36mbuild\u001b[39m: run the build script for packages\n",
      "\n",
      "  \u001b[36mdevelop\u001b[39m, \u001b[36mdev\u001b[39m: clone the full package repo locally for development\n",
      "\n",
      "  \u001b[36mfree\u001b[39m: undoes a \u001b[36mpin\u001b[39m, \u001b[36mdevelop\u001b[39m, or stops tracking a repo\n",
      "\n",
      "  \u001b[36mgc\u001b[39m: garbage collect packages not used for a significant time\n",
      "\n",
      "  \u001b[36mgenerate\u001b[39m: generate files for a new project\n",
      "\n",
      "  \u001b[36mhelp\u001b[39m, \u001b[36m?\u001b[39m: show this message\n",
      "\n",
      "  \u001b[36minstantiate\u001b[39m: downloads all the dependencies for the project\n",
      "\n",
      "  \u001b[36mpin\u001b[39m: pins the version of packages\n",
      "\n",
      "  \u001b[36mprecompile\u001b[39m: precompile all the project dependencies\n",
      "\n",
      "  \u001b[36mredo\u001b[39m: redo the latest change to the active project\n",
      "\n",
      "  \u001b[36mremove\u001b[39m, \u001b[36mrm\u001b[39m: remove packages from project or manifest\n",
      "\n",
      "  \u001b[36mresolve\u001b[39m: resolves to update the manifest from changes in dependencies of\n",
      "  developed packages\n",
      "\n",
      "  \u001b[36mstatus\u001b[39m, \u001b[36mst\u001b[39m: summarize contents of and changes to environment\n",
      "\n",
      "  \u001b[36mtest\u001b[39m: run tests for packages\n",
      "\n",
      "  \u001b[36mundo\u001b[39m: undo the latest change to the active project\n",
      "\n",
      "  \u001b[36mupdate\u001b[39m, \u001b[36mup\u001b[39m: update packages in manifest\n",
      "\n",
      "  \u001b[36mregistry add\u001b[39m: add package registries\n",
      "\n",
      "  \u001b[36mregistry remove\u001b[39m, \u001b[36mrm\u001b[39m: remove package registries\n",
      "\n",
      "  \u001b[36mregistry status\u001b[39m, \u001b[36mst\u001b[39m: information about installed registries\n",
      "\n",
      "  \u001b[36mregistry update\u001b[39m, \u001b[36mup\u001b[39m: update package registries"
     ]
    }
   ],
   "source": [
    "]?"
   ]
  },
  {
   "cell_type": "markdown",
   "metadata": {},
   "source": [
    "You can add packages to your current environment using `]add Example`. It is also possible to add multiple packages at the same time, or specify a desired version. By default it will add the most recent version that is compatible with the packages that are already installed."
   ]
  },
  {
   "cell_type": "code",
   "execution_count": 3,
   "metadata": {},
   "outputs": [
    {
     "name": "stderr",
     "output_type": "stream",
     "text": [
      "\u001b[32m\u001b[1m    Updating\u001b[22m\u001b[39m registry at `~/.julia/registries/General.toml`\n",
      "\u001b[32m\u001b[1m   Resolving\u001b[22m\u001b[39m package versions...\n",
      "\u001b[32m\u001b[1m  No Changes\u001b[22m\u001b[39m to `~/code/Project.toml`\n",
      "\u001b[32m\u001b[1m  No Changes\u001b[22m\u001b[39m to `~/code/Manifest.toml`\n"
     ]
    }
   ],
   "source": [
    "]add Example UnicodePlots"
   ]
  },
  {
   "cell_type": "markdown",
   "metadata": {},
   "source": [
    "When packages are added to an environment, they can directly be used. The first time a (new version of a) package is loaded, it will precompile the code, to make it faster to load in the future. If you want, you can also force this to happen for all packages using `]precompile`."
   ]
  },
  {
   "cell_type": "code",
   "execution_count": 4,
   "metadata": {},
   "outputs": [],
   "source": [
    "using UnicodePlots"
   ]
  },
  {
   "cell_type": "markdown",
   "metadata": {},
   "source": [
    "[UnicodePlots](https://github.com/Evizero/UnicodePlots.jl) is a fun package, which allows making plots composed entirely of text characters. We can try it out by generating 10 thousand normally distributed random numbers, and making a histogram."
   ]
  },
  {
   "cell_type": "code",
   "execution_count": 5,
   "metadata": {},
   "outputs": [
    {
     "data": {
      "text/plain": [
       "                \u001b[38;5;8m┌                                        ┐\u001b[0m \n",
       "   [-4.0, -3.5) \u001b[38;5;8m┤\u001b[0m\u001b[38;5;2m\u001b[0m\u001b[38;5;2m▏\u001b[0m 4                                     \u001b[38;5;8m \u001b[0m \u001b[38;5;8m\u001b[0m\n",
       "   [-3.5, -3.0) \u001b[38;5;8m┤\u001b[0m\u001b[38;5;2m\u001b[0m\u001b[38;5;2m▍\u001b[0m 15                                    \u001b[38;5;8m \u001b[0m \u001b[38;5;8m\u001b[0m\n",
       "   [-3.0, -2.5) \u001b[38;5;8m┤\u001b[0m\u001b[38;5;2m\u001b[0m\u001b[38;5;2m▊\u001b[0m 46                                    \u001b[38;5;8m \u001b[0m \u001b[38;5;8m\u001b[0m\n",
       "   [-2.5, -2.0) \u001b[38;5;8m┤\u001b[0m\u001b[38;5;2m██\u001b[0m\u001b[38;5;2m▊\u001b[0m 164                                 \u001b[38;5;8m \u001b[0m \u001b[38;5;8m\u001b[0m\n",
       "   [-2.0, -1.5) \u001b[38;5;8m┤\u001b[0m\u001b[38;5;2m███████\u001b[0m\u001b[38;5;2m▋\u001b[0m 447                            \u001b[38;5;8m \u001b[0m \u001b[38;5;8m\u001b[0m\n",
       "   [-1.5, -1.0) \u001b[38;5;8m┤\u001b[0m\u001b[38;5;2m███████████████\u001b[0m\u001b[38;5;2m▊\u001b[0m 912                    \u001b[38;5;8m \u001b[0m \u001b[38;5;8m\u001b[0m\n",
       "   [-1.0, -0.5) \u001b[38;5;8m┤\u001b[0m\u001b[38;5;2m██████████████████████████\u001b[0m\u001b[38;5;2m▎\u001b[0m 1514        \u001b[38;5;8m \u001b[0m \u001b[38;5;8m\u001b[0m\n",
       "   [-0.5,  0.0) \u001b[38;5;8m┤\u001b[0m\u001b[38;5;2m█████████████████████████████████\u001b[0m\u001b[38;5;2m▏\u001b[0m 1913 \u001b[38;5;8m \u001b[0m \u001b[38;5;8m\u001b[0m\n",
       "   [ 0.0,  0.5) \u001b[38;5;8m┤\u001b[0m\u001b[38;5;2m██████████████████████████████████\u001b[0m\u001b[38;5;2m \u001b[0m 1967\u001b[38;5;8m \u001b[0m \u001b[38;5;8m\u001b[0m\n",
       "   [ 0.5,  1.0) \u001b[38;5;8m┤\u001b[0m\u001b[38;5;2m█████████████████████████\u001b[0m\u001b[38;5;2m▊\u001b[0m 1492         \u001b[38;5;8m \u001b[0m \u001b[38;5;8m\u001b[0m\n",
       "   [ 1.0,  1.5) \u001b[38;5;8m┤\u001b[0m\u001b[38;5;2m███████████████\u001b[0m\u001b[38;5;2m▎\u001b[0m 876                    \u001b[38;5;8m \u001b[0m \u001b[38;5;8m\u001b[0m\n",
       "   [ 1.5,  2.0) \u001b[38;5;8m┤\u001b[0m\u001b[38;5;2m███████\u001b[0m\u001b[38;5;2m▋\u001b[0m 439                            \u001b[38;5;8m \u001b[0m \u001b[38;5;8m\u001b[0m\n",
       "   [ 2.0,  2.5) \u001b[38;5;8m┤\u001b[0m\u001b[38;5;2m██\u001b[0m\u001b[38;5;2m▊\u001b[0m 160                                 \u001b[38;5;8m \u001b[0m \u001b[38;5;8m\u001b[0m\n",
       "   [ 2.5,  3.0) \u001b[38;5;8m┤\u001b[0m\u001b[38;5;2m\u001b[0m\u001b[38;5;2m▋\u001b[0m 41                                    \u001b[38;5;8m \u001b[0m \u001b[38;5;8m\u001b[0m\n",
       "   [ 3.0,  3.5) \u001b[38;5;8m┤\u001b[0m\u001b[38;5;2m\u001b[0m\u001b[38;5;2m▎\u001b[0m 8                                     \u001b[38;5;8m \u001b[0m \u001b[38;5;8m\u001b[0m\n",
       "   [ 3.5,  4.0) \u001b[38;5;8m┤\u001b[0m\u001b[38;5;2m\u001b[0m\u001b[38;5;2m▏\u001b[0m 2                                     \u001b[38;5;8m \u001b[0m \u001b[38;5;8m\u001b[0m\n",
       "                \u001b[38;5;8m└                                        ┘\u001b[0m \n",
       "                                 Frequency                 "
      ]
     },
     "execution_count": 5,
     "metadata": {},
     "output_type": "execute_result"
    }
   ],
   "source": [
    "histogram(randn(10_000))"
   ]
  },
  {
   "cell_type": "markdown",
   "metadata": {},
   "source": [
    "Note that packages can rely on binaries. This is integrated into the design of Pkg, to provide a smooth installation experience. So, for example, people installing the Julia wrapper for the GDAL library, will automatically download a compatible GDAL installation compiled for their system. This is not installed globally, so will not interfere with the rest of the system. See https://binarybuilder.org/ to learn more about how this system works."
   ]
  },
  {
   "cell_type": "markdown",
   "metadata": {},
   "source": [
    "## Working with environments\n",
    "\n",
    "When collaborating on a project, you want it to work the same on everyones computer. However, the default environment probably looks different for everybody, depending on the packages they have installed. This can mean not everyone has the same version of packages your project depends on. Not great for reproducible science!\n",
    "\n",
    "Luckily Julia's package manager has the concept of environments. They can be created using `]activate path`, where path is the directory where the project is located, so `]activate .` creates an environment in the current directory."
   ]
  },
  {
   "cell_type": "code",
   "execution_count": 6,
   "metadata": {},
   "outputs": [
    {
     "name": "stderr",
     "output_type": "stream",
     "text": [
      "\u001b[32m\u001b[1m  Activating\u001b[22m\u001b[39m project at `~/code/julia-pizza-course/MyJuliaProject`\n"
     ]
    }
   ],
   "source": [
    "]activate MyJuliaProject"
   ]
  },
  {
   "cell_type": "markdown",
   "metadata": {},
   "source": [
    "Now you can add packages that your project relies on. Note that if the same version of the package is already installed on your computer, for instance in another environment, it will use the same copy, to save space."
   ]
  },
  {
   "cell_type": "code",
   "execution_count": 7,
   "metadata": {},
   "outputs": [
    {
     "name": "stderr",
     "output_type": "stream",
     "text": [
      "\u001b[32m\u001b[1m   Resolving\u001b[22m\u001b[39m package versions...\n",
      "\u001b[32m\u001b[1m  No Changes\u001b[22m\u001b[39m to `~/code/julia-pizza-course/MyJuliaProject/Project.toml`\n",
      "\u001b[32m\u001b[1m  No Changes\u001b[22m\u001b[39m to `~/code/julia-pizza-course/MyJuliaProject/Manifest.toml`\n"
     ]
    }
   ],
   "source": [
    "]add Example"
   ]
  },
  {
   "cell_type": "markdown",
   "metadata": {},
   "source": [
    "To see the packages added to your current environment, use `]status`, or use `]status Example` to only display a single package."
   ]
  },
  {
   "cell_type": "code",
   "execution_count": 8,
   "metadata": {},
   "outputs": [
    {
     "name": "stdout",
     "output_type": "stream",
     "text": [
      "\u001b[32m\u001b[1m      Status\u001b[22m\u001b[39m `~/code/julia-pizza-course/MyJuliaProject/Project.toml`\n",
      " \u001b[90m [7876af07] \u001b[39mExample v0.5.3\n"
     ]
    }
   ],
   "source": [
    "]status"
   ]
  },
  {
   "cell_type": "markdown",
   "metadata": {},
   "source": [
    "The state of your environment is captured in two files, the `Project.toml` and `Manifest.toml` files. We can print out their contents below."
   ]
  },
  {
   "cell_type": "code",
   "execution_count": 9,
   "metadata": {},
   "outputs": [
    {
     "name": "stdout",
     "output_type": "stream",
     "text": [
      "[deps]\n",
      "Example = \"7876af07-990d-54b4-ab0e-23690620f79a\"\n",
      "\n"
     ]
    }
   ],
   "source": [
    "println(read(\"MyJuliaProject/Project.toml\", String))"
   ]
  },
  {
   "cell_type": "code",
   "execution_count": 10,
   "metadata": {},
   "outputs": [
    {
     "name": "stdout",
     "output_type": "stream",
     "text": [
      "# This file is machine-generated - editing it directly is not advised\n",
      "\n",
      "julia_version = \"1.7.3\"\n",
      "manifest_format = \"2.0\"\n",
      "\n",
      "[[deps.Example]]\n",
      "git-tree-sha1 = \"46e44e869b4d90b96bd8ed1fdcf32244fddfb6cc\"\n",
      "uuid = \"7876af07-990d-54b4-ab0e-23690620f79a\"\n",
      "version = \"0.5.3\"\n",
      "\n"
     ]
    }
   ],
   "source": [
    "println(read(\"MyJuliaProject/Manifest.toml\", String))"
   ]
  },
  {
   "cell_type": "markdown",
   "metadata": {},
   "source": [
    "In short, the `Project.toml` file lists the dependencies under a `[deps]` section. It also supports other entries that can be added manually, for instance to add metadata or specify compatibility. The `Manifest.toml` specifies exactly which versions of both direct and indirect dependencies are used. If you share a `Manifest.toml` with someone, and someone uses `]instantiate` on it, they will be able to run your project with exactly the same dependencies.\n",
    "\n",
    "More information can be found in these chapters of the documentation:\n",
    "- https://julialang.github.io/Pkg.jl/v1/environments/\n",
    "- https://julialang.github.io/Pkg.jl/v1/toml-files/\n",
    "- https://julialang.github.io/Pkg.jl/v1/compatibility/"
   ]
  },
  {
   "cell_type": "markdown",
   "metadata": {},
   "source": [
    "## Binary packages\n",
    "We stand on the shoulders of giants. This goes for most research, but also for our geospatial stack. Everyone uses GDAL, GEOS and PROJ directly, or indirectly. These C(++) packages need to be compiled to work on our systems and this has often been difficult. In Julia, we've tried to solve this, much like conda does, but more built into the language itself."
   ]
  },
  {
   "cell_type": "code",
   "execution_count": 2,
   "metadata": {
    "scrolled": true
   },
   "outputs": [
    {
     "name": "stderr",
     "output_type": "stream",
     "text": [
      "\u001b[32m\u001b[1m    Updating\u001b[22m\u001b[39m registry at `~/.julia/registries/General.toml`\n",
      "\u001b[32m\u001b[1m   Resolving\u001b[22m\u001b[39m package versions...\n",
      "\u001b[32m\u001b[1m    Updating\u001b[22m\u001b[39m `~/code/Project.toml`\n",
      " \u001b[90m [add2ef01] \u001b[39m\u001b[92m+ GDAL v1.4.0\u001b[39m\n",
      "\u001b[32m\u001b[1m    Updating\u001b[22m\u001b[39m `~/code/Manifest.toml`\n",
      " \u001b[90m [add2ef01] \u001b[39m\u001b[92m+ GDAL v1.4.0\u001b[39m\n",
      " \u001b[90m [2e619515] \u001b[39m\u001b[92m+ Expat_jll v2.4.8+0\u001b[39m\n",
      " \u001b[90m [a7073274] \u001b[39m\u001b[92m+ GDAL_jll v300.500.1+0\u001b[39m\n",
      " \u001b[90m [d604d12d] \u001b[39m\u001b[92m+ GEOS_jll v3.11.0+0\u001b[39m\n",
      " \u001b[90m [aacddb02] \u001b[39m\u001b[92m+ JpegTurbo_jll v2.1.2+0\u001b[39m\n",
      " \u001b[90m [88015f11] \u001b[39m\u001b[92m+ LERC_jll v3.0.0+1\u001b[39m\n",
      " \u001b[90m [89763e89] \u001b[39m\u001b[92m+ Libtiff_jll v4.4.0+0\u001b[39m\n",
      " \u001b[90m [d3a379c0] \u001b[39m\u001b[92m+ LittleCMS_jll v2.12.0+0\u001b[39m\n",
      " \u001b[90m [643b3616] \u001b[39m\u001b[92m+ OpenJpeg_jll v2.4.0+0\u001b[39m\n",
      " \u001b[90m [58948b4f] \u001b[39m\u001b[92m+ PROJ_jll v900.0.100+1\u001b[39m\n",
      " \u001b[90m [76ed43ae] \u001b[39m\u001b[92m+ SQLite_jll v3.39.2+0\u001b[39m\n",
      " \u001b[90m [3161d3a3] \u001b[39m\u001b[92m+ Zstd_jll v1.5.2+0\u001b[39m\n",
      " \u001b[90m [06c338fa] \u001b[39m\u001b[92m+ libgeotiff_jll v1.7.1+0\u001b[39m\n",
      " \u001b[90m [b53b4c65] \u001b[39m\u001b[92m+ libpng_jll v1.6.38+0\u001b[39m\n"
     ]
    }
   ],
   "source": [
    "]add GDAL"
   ]
  },
  {
   "cell_type": "code",
   "execution_count": 6,
   "metadata": {},
   "outputs": [
    {
     "name": "stderr",
     "output_type": "stream",
     "text": [
      "\u001b[32m\u001b[1m     Testing\u001b[22m\u001b[39m GDAL\n",
      "\u001b[32m\u001b[1m      Status\u001b[22m\u001b[39m `/private/var/folders/w_/152mmjvx4cx7y55ky886tp1h0000gn/T/jl_YHGf2u/Project.toml`\n",
      " \u001b[90m [fa961155] \u001b[39mCEnum v0.4.2\n",
      " \u001b[90m [add2ef01] \u001b[39mGDAL v1.4.0\n",
      " \u001b[90m [a7073274] \u001b[39mGDAL_jll v300.500.1+0\n",
      " \u001b[90m [58948b4f] \u001b[39mPROJ_jll v900.0.100+1\n",
      " \u001b[90m [ca575930] \u001b[39mNetworkOptions `@stdlib/NetworkOptions`\n",
      " \u001b[90m [8dfed614] \u001b[39mTest `@stdlib/Test`\n",
      "\u001b[32m\u001b[1m      Status\u001b[22m\u001b[39m `/private/var/folders/w_/152mmjvx4cx7y55ky886tp1h0000gn/T/jl_YHGf2u/Manifest.toml`\n",
      " \u001b[90m [fa961155] \u001b[39mCEnum v0.4.2\n",
      " \u001b[90m [add2ef01] \u001b[39mGDAL v1.4.0\n",
      " \u001b[90m [692b3bcd] \u001b[39mJLLWrappers v1.4.1\n",
      " \u001b[90m [21216c6a] \u001b[39mPreferences v1.3.0\n",
      " \u001b[90m [2e619515] \u001b[39mExpat_jll v2.4.8+0\n",
      " \u001b[90m [a7073274] \u001b[39mGDAL_jll v300.500.1+0\n",
      " \u001b[90m [d604d12d] \u001b[39mGEOS_jll v3.11.0+0\n",
      " \u001b[90m [aacddb02] \u001b[39mJpegTurbo_jll v2.1.2+0\n",
      " \u001b[90m [88015f11] \u001b[39mLERC_jll v3.0.0+1\n",
      " \u001b[90m [89763e89] \u001b[39mLibtiff_jll v4.4.0+0\n",
      " \u001b[90m [d3a379c0] \u001b[39mLittleCMS_jll v2.12.0+0\n",
      " \u001b[90m [643b3616] \u001b[39mOpenJpeg_jll v2.4.0+0\n",
      " \u001b[90m [58948b4f] \u001b[39mPROJ_jll v900.0.100+1\n",
      " \u001b[90m [76ed43ae] \u001b[39mSQLite_jll v3.39.2+0\n",
      " \u001b[90m [3161d3a3] \u001b[39mZstd_jll v1.5.2+0\n",
      " \u001b[90m [06c338fa] \u001b[39mlibgeotiff_jll v1.7.1+0\n",
      " \u001b[90m [b53b4c65] \u001b[39mlibpng_jll v1.6.38+0\n",
      " \u001b[90m [0dad84c5] \u001b[39mArgTools `@stdlib/ArgTools`\n",
      " \u001b[90m [56f22d72] \u001b[39mArtifacts `@stdlib/Artifacts`\n",
      " \u001b[90m [2a0f44e3] \u001b[39mBase64 `@stdlib/Base64`\n",
      " \u001b[90m [ade2ca70] \u001b[39mDates `@stdlib/Dates`\n",
      " \u001b[90m [f43a241f] \u001b[39mDownloads `@stdlib/Downloads`\n",
      " \u001b[90m [7b1f6079] \u001b[39mFileWatching `@stdlib/FileWatching`\n",
      " \u001b[90m [b77e0a4c] \u001b[39mInteractiveUtils `@stdlib/InteractiveUtils`\n",
      " \u001b[90m [b27032c2] \u001b[39mLibCURL `@stdlib/LibCURL`\n",
      " \u001b[90m [76f85450] \u001b[39mLibGit2 `@stdlib/LibGit2`\n",
      " \u001b[90m [8f399da3] \u001b[39mLibdl `@stdlib/Libdl`\n",
      " \u001b[90m [56ddb016] \u001b[39mLogging `@stdlib/Logging`\n",
      " \u001b[90m [d6f4376e] \u001b[39mMarkdown `@stdlib/Markdown`\n",
      " \u001b[90m [ca575930] \u001b[39mNetworkOptions `@stdlib/NetworkOptions`\n",
      " \u001b[90m [44cfe95a] \u001b[39mPkg `@stdlib/Pkg`\n",
      " \u001b[90m [de0858da] \u001b[39mPrintf `@stdlib/Printf`\n",
      " \u001b[90m [3fa0cd96] \u001b[39mREPL `@stdlib/REPL`\n",
      " \u001b[90m [9a3f8284] \u001b[39mRandom `@stdlib/Random`\n",
      " \u001b[90m [ea8e919c] \u001b[39mSHA `@stdlib/SHA`\n",
      " \u001b[90m [9e88b42a] \u001b[39mSerialization `@stdlib/Serialization`\n",
      " \u001b[90m [6462fe0b] \u001b[39mSockets `@stdlib/Sockets`\n",
      " \u001b[90m [fa267f1f] \u001b[39mTOML `@stdlib/TOML`\n",
      " \u001b[90m [a4e569a6] \u001b[39mTar `@stdlib/Tar`\n",
      " \u001b[90m [8dfed614] \u001b[39mTest `@stdlib/Test`\n",
      " \u001b[90m [cf7118a7] \u001b[39mUUIDs `@stdlib/UUIDs`\n",
      " \u001b[90m [4ec0a83e] \u001b[39mUnicode `@stdlib/Unicode`\n",
      " \u001b[90m [deac9b47] \u001b[39mLibCURL_jll `@stdlib/LibCURL_jll`\n",
      " \u001b[90m [29816b5a] \u001b[39mLibSSH2_jll `@stdlib/LibSSH2_jll`\n",
      " \u001b[90m [c8ffd9c3] \u001b[39mMbedTLS_jll `@stdlib/MbedTLS_jll`\n",
      " \u001b[90m [14a3606d] \u001b[39mMozillaCACerts_jll `@stdlib/MozillaCACerts_jll`\n",
      " \u001b[90m [83775a58] \u001b[39mZlib_jll `@stdlib/Zlib_jll`\n",
      " \u001b[90m [8e850ede] \u001b[39mnghttp2_jll `@stdlib/nghttp2_jll`\n",
      " \u001b[90m [3f19e933] \u001b[39mp7zip_jll `@stdlib/p7zip_jll`\n",
      "\u001b[32m\u001b[1m     Testing\u001b[22m\u001b[39m Running tests...\n",
      "\u001b[36m\u001b[1m┌ \u001b[22m\u001b[39m\u001b[36m\u001b[1mInfo: \u001b[22m\u001b[39mGDAL 3.5.0, released 2022/05/10\n",
      "\u001b[36m\u001b[1m│ \u001b[22m\u001b[39m187 GDAL drivers found\n",
      "\u001b[36m\u001b[1m└ \u001b[22m\u001b[39m64 OGR drivers found\n",
      "CPLDestroyMutex: Error = 16 (Resource busy)\n"
     ]
    },
    {
     "name": "stdout",
     "output_type": "stream",
     "text": [
      "\u001b[0m\u001b[1mTest Summary: | \u001b[22m\u001b[32m\u001b[1mPass  \u001b[22m\u001b[39m\u001b[36m\u001b[1mTotal\u001b[22m\u001b[39m\n",
      "GDAL          | \u001b[32m 125  \u001b[39m\u001b[36m  125\u001b[39m\n"
     ]
    },
    {
     "name": "stderr",
     "output_type": "stream",
     "text": [
      "\u001b[32m\u001b[1m     Testing\u001b[22m\u001b[39m GDAL tests passed \n"
     ]
    }
   ],
   "source": [
    "] test GDAL"
   ]
  },
  {
   "cell_type": "markdown",
   "metadata": {},
   "source": [
    "## Developing a package\n",
    "\n",
    "How to create your own package or make changes to someone elses package is out of scope for this tutorial. We can give you some references however.\n",
    "\n",
    "If you want to make changes to an existing package, you can run `]dev Example` to put the git repository in your home directory under `.julia/dev/Example`. See also the usage example of the Revise package linked below.\n",
    "\n",
    "- Revise.jl https://timholy.github.io/Revise.jl/stable/\n",
    "- Look at a simple example package for how to structure code https://github.com/JuliaLang/Example.jl\n",
    "- Video tutorial on developing Julia packages https://youtu.be/QVmU29rCjaA\n",
    "- This automates creating packages including testing services and more https://github.com/invenia/PkgTemplates.jl"
   ]
  },
  {
   "cell_type": "markdown",
   "metadata": {},
   "source": [
    "## Exercise\n",
    "\n",
    "Use https://juliahub.com/, https://discourse.julialang.org/ or simply a web search to browse and find packages that seem interesting to you, and install them using the package manager.\n",
    "\n",
    "If you have time, you can use the documentation or GitHub page of a package to try it out.\n",
    "\n",
    "This is intended simply as an open ended exercise to make you more familiar with discovering and installing packages.\n",
    "\n",
    "To help, here is a small list of packages that some of you may be interested in:\n",
    "- [ShallowWaters - hydrodynamic model](https://github.com/milankl/ShallowWaters.jl)\n",
    "- [Oceananigans - hydrodynamic model](https://github.com/CliMA/Oceananigans.jl)\n",
    "- [MPI - parallel computing](https://github.com/JuliaParallel/MPI.jl)\n",
    "- [ArchGDAL - geospatial data](https://github.com/yeesian/ArchGDAL.jl)\n",
    "- [NCDatasets - NetCDF data](https://github.com/Alexander-Barth/NCDatasets.jl)\n",
    "- [GeometryBasics - geometry primitives](https://github.com/JuliaGeometry/GeometryBasics.jl)\n",
    "- [MLJ - machine learning](https://alan-turing-institute.github.io/MLJ.jl/stable/)\n",
    "- [Turing - probabilistic programming](https://turing.ml/dev/)\n",
    "- [Flux - deep learning](https://fluxml.ai/)\n",
    "- [Unitful - track units](https://painterqubits.github.io/Unitful.jl/latest/)\n",
    "- [Measurements - track uncertainty](https://juliaphysics.github.io/Measurements.jl/stable/)\n",
    "- [DataAssim - data assimilation](https://github.com/Alexander-Barth/DataAssim.jl)\n",
    "- [GeoStats - geostatistics](https://github.com/JuliaEarth/GeoStats.jl)\n"
   ]
  }
 ],
 "metadata": {
  "kernel_info": {
   "name": "julia-1.5"
  },
  "kernelspec": {
   "display_name": "Julia 1.8 1.8.0",
   "language": "julia",
   "name": "julia-1.8-1.8"
  },
  "language_info": {
   "file_extension": ".jl",
   "mimetype": "application/julia",
   "name": "julia",
   "version": "1.8.0"
  },
  "nteract": {
   "version": "0.23.1"
  }
 },
 "nbformat": 4,
 "nbformat_minor": 1
}
