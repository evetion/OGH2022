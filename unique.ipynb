{
 "cells": [
  {
   "cell_type": "markdown",
   "metadata": {},
   "source": [
    "# Unique features of Julia\n",
    "\n",
    "In the last part of this introduction, we will dive a little deeper into what makes Julia unique. The core concepts we will treat here are:\n",
    "\n",
    "- type system\n",
    "- functions and methods\n",
    "- multiple dispatch\n",
    "- composability\n",
    "\n",
    "\n",
    "## Links\n",
    "- Stefan Karpinski, The unreasonable effectiveness of multiple dispatch - https://youtu.be/kc9HwsxE1OY?t=65"
   ]
  },
  {
   "cell_type": "markdown",
   "metadata": {},
   "source": [
    "## Type system"
   ]
  },
  {
   "cell_type": "markdown",
   "metadata": {},
   "source": [
    "Julia has the notion of abstract types and concrete types. Concrete types are the only ones that can actually have instances, and can only subtype abstract types, which is used to inherit behavior, not structure."
   ]
  },
  {
   "cell_type": "code",
   "execution_count": 1,
   "metadata": {},
   "outputs": [
    {
     "name": "stdout",
     "output_type": "stream",
     "text": [
      "Float64 <: AbstractFloat <: Real <: Number <: Any\n",
      "Int64 <: Signed <: Integer <: Real <: Number <: Any"
     ]
    }
   ],
   "source": [
    "Base.show_supertypes(Float64)\n",
    "println()\n",
    "Base.show_supertypes(Int)"
   ]
  },
  {
   "cell_type": "code",
   "execution_count": 2,
   "metadata": {},
   "outputs": [],
   "source": [
    "# fine, but not very generic\n",
    "struct Point1\n",
    "    x::Float64\n",
    "    y::Float64\n",
    "end\n",
    "\n",
    "# slow, because Julia cannot reason about the contents\n",
    "struct Point2\n",
    "    x::Any\n",
    "    y  # nothing is the same as ::Any\n",
    "end\n",
    "\n",
    "# equally fast as Point1, but more generic\n",
    "struct Point3{T}\n",
    "    x::T\n",
    "    y::T\n",
    "end"
   ]
  },
  {
   "cell_type": "code",
   "execution_count": 3,
   "metadata": {},
   "outputs": [
    {
     "data": {
      "text/plain": [
       "true"
      ]
     },
     "execution_count": 3,
     "metadata": {},
     "output_type": "execute_result"
    }
   ],
   "source": [
    "p1 = Point1(1.1, -2.2)\n",
    "isbits(p1)"
   ]
  },
  {
   "cell_type": "code",
   "execution_count": 4,
   "metadata": {},
   "outputs": [
    {
     "data": {
      "text/plain": [
       "false"
      ]
     },
     "execution_count": 4,
     "metadata": {},
     "output_type": "execute_result"
    }
   ],
   "source": [
    "p2 = Point2(1.1, -2.2)\n",
    "isbits(p2)"
   ]
  },
  {
   "cell_type": "code",
   "execution_count": 5,
   "metadata": {},
   "outputs": [
    {
     "name": "stdout",
     "output_type": "stream",
     "text": [
      "isbits(p3) = true\n"
     ]
    },
    {
     "data": {
      "text/plain": [
       "Point3{Float64}(1.1, -2.2)"
      ]
     },
     "execution_count": 5,
     "metadata": {},
     "output_type": "execute_result"
    }
   ],
   "source": [
    "p3 = Point3(1.1, -2.2)\n",
    "@show isbits(p3)\n",
    "p3"
   ]
  },
  {
   "cell_type": "code",
   "execution_count": 6,
   "metadata": {},
   "outputs": [
    {
     "data": {
      "text/plain": [
       "Point3{Int64}(1, -2)"
      ]
     },
     "execution_count": 6,
     "metadata": {},
     "output_type": "execute_result"
    }
   ],
   "source": [
    "Point3(1, -2)"
   ]
  },
  {
   "cell_type": "markdown",
   "metadata": {},
   "source": [
    "## Functions and methods\n",
    "\n",
    "`+`, `abs` and `show` are examples of functions that are defined in the Julia Base library. A function can have many methods, which are functions that are defined for a specific set of input types. If you define your own type, it is common practice to add methods to existing functions, that tell julia how to apply a certain function to your types."
   ]
  },
  {
   "cell_type": "code",
   "execution_count": 7,
   "metadata": {},
   "outputs": [
    {
     "data": {
      "text/html": [
       "# 13 methods for generic function <b>abs</b>:<ul><li> abs(x::<b>Unsigned</b>) in Base at <a href=\"https://github.com/JuliaLang/julia/tree/742b9abb4dd4621b667ec5bb3434b8b3602f96fd/base/int.jl#L179\" target=\"_blank\">int.jl:179</a></li> <li> abs(x::<b>Signed</b>) in Base at <a href=\"https://github.com/JuliaLang/julia/tree/742b9abb4dd4621b667ec5bb3434b8b3602f96fd/base/int.jl#L180\" target=\"_blank\">int.jl:180</a></li> <li> abs(z::<b>Complex</b>) in Base at <a href=\"https://github.com/JuliaLang/julia/tree/742b9abb4dd4621b667ec5bb3434b8b3602f96fd/base/complex.jl#L277\" target=\"_blank\">complex.jl:277</a></li> <li> abs(x::<b>Rational</b>) in Base at <a href=\"https://github.com/JuliaLang/julia/tree/742b9abb4dd4621b667ec5bb3434b8b3602f96fd/base/rational.jl#L259\" target=\"_blank\">rational.jl:259</a></li> <li> abs(a::<b>T</b>)<i> where T<:Dates.Period</i> in Dates at <a href=\"file:///Users/julia/buildbot/worker/package_macos64/build/usr/share/julia/stdlib/v1.7/Dates/src/periods.jl\" target=\"_blank\">/Applications/Julia-1.7.app/Contents/Resources/julia/share/julia/stdlib/v1.7/Dates/src/periods.jl:102</a></li> <li> abs(x::<b>Bool</b>) in Base at <a href=\"https://github.com/JuliaLang/julia/tree/742b9abb4dd4621b667ec5bb3434b8b3602f96fd/base/bool.jl#L149\" target=\"_blank\">bool.jl:149</a></li> <li> abs(x::<b>Float16</b>) in Base at <a href=\"https://github.com/JuliaLang/julia/tree/742b9abb4dd4621b667ec5bb3434b8b3602f96fd/base/float.jl#L522\" target=\"_blank\">float.jl:522</a></li> <li> abs(x::<b>Float32</b>) in Base at <a href=\"https://github.com/JuliaLang/julia/tree/742b9abb4dd4621b667ec5bb3434b8b3602f96fd/base/float.jl#L523\" target=\"_blank\">float.jl:523</a></li> <li> abs(x::<b>Float64</b>) in Base at <a href=\"https://github.com/JuliaLang/julia/tree/742b9abb4dd4621b667ec5bb3434b8b3602f96fd/base/float.jl#L524\" target=\"_blank\">float.jl:524</a></li> <li> abs(x::<b>Real</b>) in Base at <a href=\"https://github.com/JuliaLang/julia/tree/742b9abb4dd4621b667ec5bb3434b8b3602f96fd/base/number.jl#L164\" target=\"_blank\">number.jl:164</a></li> <li> abs(::<b>Missing</b>) in Base at <a href=\"https://github.com/JuliaLang/julia/tree/742b9abb4dd4621b667ec5bb3434b8b3602f96fd/base/missing.jl#L101\" target=\"_blank\">missing.jl:101</a></li> <li> abs(a::<b>Pkg.Resolve.VersionWeight</b>) in Pkg.Resolve at <a href=\"file:///Users/julia/buildbot/worker/package_macos64/build/usr/share/julia/stdlib/v1.7/Pkg/src/Resolve/versionweights.jl\" target=\"_blank\">/Applications/Julia-1.7.app/Contents/Resources/julia/share/julia/stdlib/v1.7/Pkg/src/Resolve/versionweights.jl:32</a></li> <li> abs(a::<b>Pkg.Resolve.FieldValue</b>) in Pkg.Resolve at <a href=\"file:///Users/julia/buildbot/worker/package_macos64/build/usr/share/julia/stdlib/v1.7/Pkg/src/Resolve/fieldvalues.jl\" target=\"_blank\">/Applications/Julia-1.7.app/Contents/Resources/julia/share/julia/stdlib/v1.7/Pkg/src/Resolve/fieldvalues.jl:51</a></li> </ul>"
      ],
      "text/plain": [
       "# 13 methods for generic function \"abs\":\n",
       "[1] abs(x::Unsigned) in Base at int.jl:179\n",
       "[2] abs(x::Signed) in Base at int.jl:180\n",
       "[3] abs(z::Complex) in Base at complex.jl:277\n",
       "[4] abs(x::Rational) in Base at rational.jl:259\n",
       "[5] abs(a::T) where T<:Dates.Period in Dates at /Applications/Julia-1.7.app/Contents/Resources/julia/share/julia/stdlib/v1.7/Dates/src/periods.jl:102\n",
       "[6] abs(x::Bool) in Base at bool.jl:149\n",
       "[7] abs(x::Float16) in Base at float.jl:522\n",
       "[8] abs(x::Float32) in Base at float.jl:523\n",
       "[9] abs(x::Float64) in Base at float.jl:524\n",
       "[10] abs(x::Real) in Base at number.jl:164\n",
       "[11] abs(::Missing) in Base at missing.jl:101\n",
       "[12] abs(a::Pkg.Resolve.VersionWeight) in Pkg.Resolve at /Applications/Julia-1.7.app/Contents/Resources/julia/share/julia/stdlib/v1.7/Pkg/src/Resolve/versionweights.jl:32\n",
       "[13] abs(a::Pkg.Resolve.FieldValue) in Pkg.Resolve at /Applications/Julia-1.7.app/Contents/Resources/julia/share/julia/stdlib/v1.7/Pkg/src/Resolve/fieldvalues.jl:51"
      ]
     },
     "execution_count": 7,
     "metadata": {},
     "output_type": "execute_result"
    }
   ],
   "source": [
    "# show all the methods defined for the cos function\n",
    "methods(abs)"
   ]
  },
  {
   "cell_type": "code",
   "execution_count": 8,
   "metadata": {},
   "outputs": [
    {
     "ename": "LoadError",
     "evalue": "MethodError: no method matching abs(::Point3{Float64})\n\u001b[0mClosest candidates are:\n\u001b[0m  abs(\u001b[91m::Unsigned\u001b[39m) at /Applications/Julia-1.7.app/Contents/Resources/julia/share/julia/base/int.jl:179\n\u001b[0m  abs(\u001b[91m::Signed\u001b[39m) at /Applications/Julia-1.7.app/Contents/Resources/julia/share/julia/base/int.jl:180\n\u001b[0m  abs(\u001b[91m::Complex\u001b[39m) at /Applications/Julia-1.7.app/Contents/Resources/julia/share/julia/base/complex.jl:277\n\u001b[0m  ...",
     "output_type": "error",
     "traceback": [
      "MethodError: no method matching abs(::Point3{Float64})\n\u001b[0mClosest candidates are:\n\u001b[0m  abs(\u001b[91m::Unsigned\u001b[39m) at /Applications/Julia-1.7.app/Contents/Resources/julia/share/julia/base/int.jl:179\n\u001b[0m  abs(\u001b[91m::Signed\u001b[39m) at /Applications/Julia-1.7.app/Contents/Resources/julia/share/julia/base/int.jl:180\n\u001b[0m  abs(\u001b[91m::Complex\u001b[39m) at /Applications/Julia-1.7.app/Contents/Resources/julia/share/julia/base/complex.jl:277\n\u001b[0m  ...",
      "",
      "Stacktrace:",
      " [1] top-level scope",
      "   @ In[8]:2",
      " [2] eval",
      "   @ ./boot.jl:373 [inlined]",
      " [3] include_string(mapexpr::typeof(REPL.softscope), mod::Module, code::String, filename::String)",
      "   @ Base ./loading.jl:1196"
     ]
    }
   ],
   "source": [
    "# julia does not yet know how to take the absolute value of a point\n",
    "abs(p3)"
   ]
  },
  {
   "cell_type": "code",
   "execution_count": 9,
   "metadata": {},
   "outputs": [],
   "source": [
    "# let's teach it how\n",
    "Base.abs(p::Point3) = Point3(abs(p.x), abs(p.y))"
   ]
  },
  {
   "cell_type": "code",
   "execution_count": 10,
   "metadata": {},
   "outputs": [
    {
     "data": {
      "text/plain": [
       "Point3{Float64}(1.1, 2.2)"
      ]
     },
     "execution_count": 10,
     "metadata": {},
     "output_type": "execute_result"
    }
   ],
   "source": [
    "abs(p3)"
   ]
  },
  {
   "cell_type": "markdown",
   "metadata": {},
   "source": [
    "## Multiple dispatch\n",
    "\n",
    "When a function is first called, Julia looks at the types of all input arguments, and will select the most specific method that applies. Then it will compile this method to native code, and then execute it. The second time that this method is called for the same types of input arguments, it will not have to compile again. Therefore you often see some latency on the first call to a method.\n",
    "\n",
    "In cases where you care about performance, it is always good to check if the Julia compiler can figure out the types. If it cannot, it will still work, but will often be much slower since it needs to do more work at runtime versus compilation time. For an overview of performance tips, see also https://docs.julialang.org/en/v1/manual/performance-tips/index.html."
   ]
  },
  {
   "cell_type": "markdown",
   "metadata": {},
   "source": [
    "We can use macros to look into the different steps in the compilation process:"
   ]
  },
  {
   "cell_type": "code",
   "execution_count": 11,
   "metadata": {},
   "outputs": [
    {
     "data": {
      "text/plain": [
       "CodeInfo(\n",
       "\u001b[90m1 ─\u001b[39m %1 = Base.getfield(p, :x)\u001b[36m::Float64\u001b[39m\n",
       "\u001b[90m│  \u001b[39m %2 = Base.abs_float(%1)\u001b[36m::Float64\u001b[39m\n",
       "\u001b[90m│  \u001b[39m %3 = Base.getfield(p, :y)\u001b[36m::Float64\u001b[39m\n",
       "\u001b[90m│  \u001b[39m %4 = Base.abs_float(%3)\u001b[36m::Float64\u001b[39m\n",
       "\u001b[90m│  \u001b[39m %5 = %new(Point3{Float64}, %2, %4)\u001b[36m::Point3{Float64}\u001b[39m\n",
       "\u001b[90m└──\u001b[39m      return %5\n",
       ") => Point3{Float64}"
      ]
     },
     "execution_count": 11,
     "metadata": {},
     "output_type": "execute_result"
    }
   ],
   "source": [
    "@code_typed abs(p3)"
   ]
  },
  {
   "cell_type": "code",
   "execution_count": 12,
   "metadata": {},
   "outputs": [
    {
     "name": "stdout",
     "output_type": "stream",
     "text": [
      "\t\u001b[0m.section\t\u001b[0m__TEXT\u001b[0m,\u001b[0m__text\u001b[0m,\u001b[0mregular\u001b[0m,\u001b[0mpure_instructions\n",
      "\u001b[90m; ┌ @ In[9]:2 within `abs`\u001b[39m\n",
      "\t\u001b[96m\u001b[1mmovq\u001b[22m\u001b[39m\t\u001b[0m%rdi\u001b[0m, \u001b[0m%rax\n",
      "\u001b[90m; │ @ In[9]:2 within `abs` @ float.jl:524\u001b[39m\n",
      "\t\u001b[96m\u001b[1mmovups\u001b[22m\u001b[39m\t\u001b[33m(\u001b[39m\u001b[0m%rsi\u001b[33m)\u001b[39m\u001b[0m, \u001b[0m%xmm0\n",
      "\t\u001b[96m\u001b[1mmovabsq\u001b[22m\u001b[39m\t\u001b[33m$4775512416\u001b[39m\u001b[0m, \u001b[0m%rcx               \u001b[0m## \u001b[0mimm \u001b[0m= \u001b[33m0x11CA48960\u001b[39m\n",
      "\t\u001b[96m\u001b[1mandps\u001b[22m\u001b[39m\t\u001b[33m(\u001b[39m\u001b[0m%rcx\u001b[33m)\u001b[39m\u001b[0m, \u001b[0m%xmm0\n",
      "\u001b[90m; │ @ In[9]:2 within `abs`\u001b[39m\n",
      "\t\u001b[96m\u001b[1mmovups\u001b[22m\u001b[39m\t\u001b[0m%xmm0\u001b[0m, \u001b[33m(\u001b[39m\u001b[0m%rdi\u001b[33m)\u001b[39m\n",
      "\t\u001b[96m\u001b[1mretq\u001b[22m\u001b[39m\n",
      "\t\u001b[96m\u001b[1mnopw\u001b[22m\u001b[39m\t\u001b[33m(\u001b[39m\u001b[0m%rax\u001b[0m,\u001b[0m%rax\u001b[33m)\u001b[39m\n",
      "\u001b[90m; └\u001b[39m\n"
     ]
    }
   ],
   "source": [
    "@code_native abs(p3)"
   ]
  },
  {
   "cell_type": "markdown",
   "metadata": {},
   "source": [
    "Since we wrote our `Point3` type in a generic way with type parameter `T` that can represent any type, our type will now automatically work together with other coordinate types. We demonstrate that here using the Measurements package to represent uncertainty."
   ]
  },
  {
   "cell_type": "code",
   "execution_count": 13,
   "metadata": {},
   "outputs": [
    {
     "name": "stderr",
     "output_type": "stream",
     "text": [
      "\u001b[32m\u001b[1m    Updating\u001b[22m\u001b[39m registry at `~/.julia/registries/General.toml`\n",
      "\u001b[32m\u001b[1m   Resolving\u001b[22m\u001b[39m package versions...\n",
      "\u001b[32m\u001b[1m    Updating\u001b[22m\u001b[39m `~/code/Project.toml`\n",
      " \u001b[90m [eff96d63] \u001b[39m\u001b[92m+ Measurements v2.7.2\u001b[39m\n",
      "\u001b[32m\u001b[1m    Updating\u001b[22m\u001b[39m `~/code/Manifest.toml`\n",
      " \u001b[90m [49dc2e85] \u001b[39m\u001b[92m+ Calculus v0.5.1\u001b[39m\n",
      " \u001b[90m [eff96d63] \u001b[39m\u001b[92m+ Measurements v2.7.2\u001b[39m\n",
      " \u001b[90m [3cdcf5f2] \u001b[39m\u001b[92m+ RecipesBase v1.2.1\u001b[39m\n"
     ]
    }
   ],
   "source": [
    "]add Measurements"
   ]
  },
  {
   "cell_type": "code",
   "execution_count": 14,
   "metadata": {},
   "outputs": [],
   "source": [
    "using Measurements"
   ]
  },
  {
   "cell_type": "code",
   "execution_count": 15,
   "metadata": {},
   "outputs": [
    {
     "data": {
      "text/plain": [
       "Point3{Measurement{Float64}}(1.1 ± 0.2, -2.2 ± 0.4)"
      ]
     },
     "execution_count": 15,
     "metadata": {},
     "output_type": "execute_result"
    }
   ],
   "source": [
    "# the plus minus ± symbol can be typed like \\pm<tab>\n",
    "uncertain_point = Point3(1.1 ± 0.2, -2.2 ± 0.4)"
   ]
  },
  {
   "cell_type": "code",
   "execution_count": 16,
   "metadata": {},
   "outputs": [
    {
     "data": {
      "text/plain": [
       "Point3{Measurement{Float64}}(1.1 ± 0.2, 2.2 ± 0.4)"
      ]
     },
     "execution_count": 16,
     "metadata": {},
     "output_type": "execute_result"
    }
   ],
   "source": [
    "abs(uncertain_point)"
   ]
  },
  {
   "cell_type": "markdown",
   "metadata": {},
   "source": [
    "## AbstractArrays\n",
    "\n",
    "One nice example of how the julia community makes use of these unique features, can be seen in the different array types that are available:\n",
    "\n",
    "- https://docs.julialang.org/en/v1/manual/interfaces/#man-interface-array-1\n",
    "- https://github.com/JuliaArrays\n",
    "- https://juliagpu.org/"
   ]
  }
 ],
 "metadata": {
  "kernelspec": {
   "display_name": "Julia 1.8 1.8.0",
   "language": "julia",
   "name": "julia-1.8-1.8"
  },
  "language_info": {
   "file_extension": ".jl",
   "mimetype": "application/julia",
   "name": "julia",
   "version": "1.8.0"
  }
 },
 "nbformat": 4,
 "nbformat_minor": 4
}
