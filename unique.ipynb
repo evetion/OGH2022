{
 "cells": [
  {
   "cell_type": "markdown",
   "metadata": {},
   "source": [
    "# Unique features of Julia\n",
    "\n",
    "In the last part of this introduction, we will dive a little deeper into what makes Julia unique. The core concepts we will treat here are:\n",
    "\n",
    "- type system\n",
    "- functions and methods\n",
    "- multiple dispatch\n",
    "- composability\n",
    "\n",
    "\n",
    "## Links\n",
    "- Stefan Karpinski, The unreasonable effectiveness of multiple dispatch - https://youtu.be/kc9HwsxE1OY?t=65"
   ]
  },
  {
   "cell_type": "markdown",
   "metadata": {},
   "source": [
    "## Type system"
   ]
  },
  {
   "cell_type": "markdown",
   "metadata": {},
   "source": [
    "Julia has the notion of abstract types and concrete types. Concrete types are the only ones that can actually have instances, and can only subtype abstract types, which is used to inherit behavior, not structure."
   ]
  },
  {
   "cell_type": "code",
   "execution_count": 1,
   "metadata": {},
   "outputs": [
    {
     "name": "stdout",
     "output_type": "stream",
     "text": [
      "Float64 <: AbstractFloat <: Real <: Number <: Any\n",
      "Int64 <: Signed <: Integer <: Real <: Number <: Any"
     ]
    }
   ],
   "source": [
    "Base.show_supertypes(Float64)\n",
    "println()\n",
    "Base.show_supertypes(Int)"
   ]
  },
  {
   "cell_type": "code",
   "execution_count": 2,
   "metadata": {},
   "outputs": [],
   "source": [
    "# fine, but not very generic\n",
    "struct Point1\n",
    "    x::Float64\n",
    "    y::Float64\n",
    "end\n",
    "\n",
    "# slow, because Julia cannot reason about the contents\n",
    "struct Point2\n",
    "    x::Any\n",
    "    y  # nothing is the same as ::Any\n",
    "end\n",
    "\n",
    "# equally fast as Point1, but more generic\n",
    "struct Point3{T}\n",
    "    x::T\n",
    "    y::T\n",
    "end"
   ]
  },
  {
   "cell_type": "code",
   "execution_count": 3,
   "metadata": {},
   "outputs": [
    {
     "data": {
      "text/plain": [
       "true"
      ]
     },
     "execution_count": 3,
     "metadata": {},
     "output_type": "execute_result"
    }
   ],
   "source": [
    "p1 = Point1(1.1, -2.2)\n",
    "isbits(p1)"
   ]
  },
  {
   "cell_type": "code",
   "execution_count": 4,
   "metadata": {},
   "outputs": [
    {
     "data": {
      "text/plain": [
       "false"
      ]
     },
     "execution_count": 4,
     "metadata": {},
     "output_type": "execute_result"
    }
   ],
   "source": [
    "p2 = Point2(1.1, -2.2)\n",
    "isbits(p2)"
   ]
  },
  {
   "cell_type": "code",
   "execution_count": 5,
   "metadata": {},
   "outputs": [
    {
     "name": "stdout",
     "output_type": "stream",
     "text": [
      "isbits(p3) = true\n"
     ]
    },
    {
     "data": {
      "text/plain": [
       "Point3{Float64}(1.1, -2.2)"
      ]
     },
     "execution_count": 5,
     "metadata": {},
     "output_type": "execute_result"
    }
   ],
   "source": [
    "p3 = Point3(1.1, -2.2)\n",
    "@show isbits(p3)\n",
    "p3"
   ]
  },
  {
   "cell_type": "code",
   "execution_count": 6,
   "metadata": {},
   "outputs": [
    {
     "data": {
      "text/plain": [
       "Point3{Int64}(1, -2)"
      ]
     },
     "execution_count": 6,
     "metadata": {},
     "output_type": "execute_result"
    }
   ],
   "source": [
    "Point3(1, -2)"
   ]
  },
  {
   "cell_type": "markdown",
   "metadata": {},
   "source": [
    "## Functions and methods\n",
    "\n",
    "`+`, `abs` and `show` are examples of functions that are defined in the Julia Base library. A function can have many methods, which are functions that are defined for a specific set of input types. If you define your own type, it is common practice to add methods to existing functions, that tell julia how to apply a certain function to your types."
   ]
  },
  {
   "cell_type": "code",
   "execution_count": 7,
   "metadata": {},
   "outputs": [
    {
     "data": {
      "text/html": [
       "# 11 methods for generic function <b>abs</b>:<ul><li> abs(x::<b>Unsigned</b>) in Base at <a href=\"https://github.com/JuliaLang/julia/tree/5544a0fab7648cfa61fe79cd557a7504a92ec1b5/base/int.jl#L183\" target=\"_blank\">int.jl:183</a></li> <li> abs(x::<b>Signed</b>) in Base at <a href=\"https://github.com/JuliaLang/julia/tree/5544a0fab7648cfa61fe79cd557a7504a92ec1b5/base/int.jl#L184\" target=\"_blank\">int.jl:184</a></li> <li> abs(x::<b>Union{Float16, Float32, Float64}</b>) in Base at <a href=\"https://github.com/JuliaLang/julia/tree/5544a0fab7648cfa61fe79cd557a7504a92ec1b5/base/float.jl#L486\" target=\"_blank\">float.jl:486</a></li> <li> abs(z::<b>Complex</b>) in Base at <a href=\"https://github.com/JuliaLang/julia/tree/5544a0fab7648cfa61fe79cd557a7504a92ec1b5/base/complex.jl#L277\" target=\"_blank\">complex.jl:277</a></li> <li> abs(x::<b>Rational</b>) in Base at <a href=\"https://github.com/JuliaLang/julia/tree/5544a0fab7648cfa61fe79cd557a7504a92ec1b5/base/rational.jl#L261\" target=\"_blank\">rational.jl:261</a></li> <li> abs(a::<b>T</b>)<i> where T<:Dates.Period</i> in Dates at <a href=\"file://C:/buildbot/worker/package_win64/build/usr/share/julia/stdlib/v1.8/Dates/src/periods.jl\" target=\"_blank\">d:\\visser_mn\\.julia\\juliaup\\julia-1.8.0+0.x64\\share\\julia\\stdlib\\v1.8\\Dates\\src\\periods.jl:105</a></li> <li> abs(x::<b>Bool</b>) in Base at <a href=\"https://github.com/JuliaLang/julia/tree/5544a0fab7648cfa61fe79cd557a7504a92ec1b5/base/bool.jl#L149\" target=\"_blank\">bool.jl:149</a></li> <li> abs(x::<b>Real</b>) in Base at <a href=\"https://github.com/JuliaLang/julia/tree/5544a0fab7648cfa61fe79cd557a7504a92ec1b5/base/number.jl#L164\" target=\"_blank\">number.jl:164</a></li> <li> abs(::<b>Missing</b>) in Base at <a href=\"https://github.com/JuliaLang/julia/tree/5544a0fab7648cfa61fe79cd557a7504a92ec1b5/base/missing.jl#L101\" target=\"_blank\">missing.jl:101</a></li> <li> abs(a::<b>Pkg.Resolve.VersionWeight</b>) in Pkg.Resolve at <a href=\"file://C:/buildbot/worker/package_win64/build/usr/share/julia/stdlib/v1.8/Pkg/src/Resolve/versionweights.jl\" target=\"_blank\">d:\\visser_mn\\.julia\\juliaup\\julia-1.8.0+0.x64\\share\\julia\\stdlib\\v1.8\\Pkg\\src\\Resolve\\versionweights.jl:32</a></li> <li> abs(a::<b>Pkg.Resolve.FieldValue</b>) in Pkg.Resolve at <a href=\"file://C:/buildbot/worker/package_win64/build/usr/share/julia/stdlib/v1.8/Pkg/src/Resolve/fieldvalues.jl\" target=\"_blank\">d:\\visser_mn\\.julia\\juliaup\\julia-1.8.0+0.x64\\share\\julia\\stdlib\\v1.8\\Pkg\\src\\Resolve\\fieldvalues.jl:51</a></li> </ul>"
      ],
      "text/plain": [
       "# 11 methods for generic function \"abs\":\n",
       "[1] abs(x::Unsigned) in Base at int.jl:183\n",
       "[2] abs(x::Signed) in Base at int.jl:184\n",
       "[3] abs(x::Union{Float16, Float32, Float64}) in Base at float.jl:486\n",
       "[4] abs(z::Complex) in Base at complex.jl:277\n",
       "[5] abs(x::Rational) in Base at rational.jl:261\n",
       "[6] abs(a::T) where T<:Dates.Period in Dates at d:\\visser_mn\\.julia\\juliaup\\julia-1.8.0+0.x64\\share\\julia\\stdlib\\v1.8\\Dates\\src\\periods.jl:105\n",
       "[7] abs(x::Bool) in Base at bool.jl:149\n",
       "[8] abs(x::Real) in Base at number.jl:164\n",
       "[9] abs(::Missing) in Base at missing.jl:101\n",
       "[10] abs(a::Pkg.Resolve.VersionWeight) in Pkg.Resolve at d:\\visser_mn\\.julia\\juliaup\\julia-1.8.0+0.x64\\share\\julia\\stdlib\\v1.8\\Pkg\\src\\Resolve\\versionweights.jl:32\n",
       "[11] abs(a::Pkg.Resolve.FieldValue) in Pkg.Resolve at d:\\visser_mn\\.julia\\juliaup\\julia-1.8.0+0.x64\\share\\julia\\stdlib\\v1.8\\Pkg\\src\\Resolve\\fieldvalues.jl:51"
      ]
     },
     "execution_count": 7,
     "metadata": {},
     "output_type": "execute_result"
    }
   ],
   "source": [
    "# show all the methods defined for the abs function\n",
    "methods(abs)"
   ]
  },
  {
   "cell_type": "code",
   "execution_count": 8,
   "metadata": {},
   "outputs": [
    {
     "ename": "LoadError",
     "evalue": "MethodError: no method matching abs(::Point3{Float64})\n\u001b[0mClosest candidates are:\n\u001b[0m  abs(\u001b[91m::Unsigned\u001b[39m) at int.jl:183\n\u001b[0m  abs(\u001b[91m::Signed\u001b[39m) at int.jl:184\n\u001b[0m  abs(\u001b[91m::Union{Float16, Float32, Float64}\u001b[39m) at float.jl:486\n\u001b[0m  ...",
     "output_type": "error",
     "traceback": [
      "MethodError: no method matching abs(::Point3{Float64})\n\u001b[0mClosest candidates are:\n\u001b[0m  abs(\u001b[91m::Unsigned\u001b[39m) at int.jl:183\n\u001b[0m  abs(\u001b[91m::Signed\u001b[39m) at int.jl:184\n\u001b[0m  abs(\u001b[91m::Union{Float16, Float32, Float64}\u001b[39m) at float.jl:486\n\u001b[0m  ...",
      "",
      "Stacktrace:",
      " [1] top-level scope",
      "   @ In[8]:2",
      " [2] eval",
      "   @ .\\boot.jl:368 [inlined]",
      " [3] include_string(mapexpr::typeof(REPL.softscope), mod::Module, code::String, filename::String)",
      "   @ Base .\\loading.jl:1428"
     ]
    }
   ],
   "source": [
    "# julia does not yet know how to take the absolute value of a point\n",
    "abs(p3)"
   ]
  },
  {
   "cell_type": "code",
   "execution_count": 9,
   "metadata": {},
   "outputs": [],
   "source": [
    "# let's teach it how\n",
    "Base.abs(p::Point3) = Point3(abs(p.x), abs(p.y))"
   ]
  },
  {
   "cell_type": "code",
   "execution_count": 10,
   "metadata": {},
   "outputs": [
    {
     "data": {
      "text/plain": [
       "Point3{Float64}(1.1, 2.2)"
      ]
     },
     "execution_count": 10,
     "metadata": {},
     "output_type": "execute_result"
    }
   ],
   "source": [
    "abs(p3)"
   ]
  },
  {
   "cell_type": "markdown",
   "metadata": {},
   "source": [
    "## Multiple dispatch\n",
    "\n",
    "When a function is first called, Julia looks at the types of all input arguments, and will select the most specific method that applies. Then it will compile this method to native code, and then execute it. The second time that this method is called for the same types of input arguments, it will not have to compile again. Therefore you often see some latency on the first call to a method.\n",
    "\n",
    "In cases where you care about performance, it is always good to check if the Julia compiler can figure out the types. If it cannot, it will still work, but will often be much slower since it needs to do more work at runtime versus compilation time. For an overview of performance tips, see also https://docs.julialang.org/en/v1/manual/performance-tips/index.html."
   ]
  },
  {
   "cell_type": "markdown",
   "metadata": {},
   "source": [
    "We can use macros to look into the different steps in the compilation process:"
   ]
  },
  {
   "cell_type": "code",
   "execution_count": 11,
   "metadata": {},
   "outputs": [
    {
     "data": {
      "text/plain": [
       "CodeInfo(\n",
       "\u001b[90m1 ─\u001b[39m %1 = Base.getfield(p, :x)\u001b[36m::Float64\u001b[39m\n",
       "\u001b[90m│  \u001b[39m %2 = Base.abs_float(%1)\u001b[36m::Float64\u001b[39m\n",
       "\u001b[90m│  \u001b[39m %3 = Base.getfield(p, :y)\u001b[36m::Float64\u001b[39m\n",
       "\u001b[90m│  \u001b[39m %4 = Base.abs_float(%3)\u001b[36m::Float64\u001b[39m\n",
       "\u001b[90m│  \u001b[39m %5 = %new(Point3{Float64}, %2, %4)\u001b[36m::Point3{Float64}\u001b[39m\n",
       "\u001b[90m└──\u001b[39m      return %5\n",
       ") => Point3{Float64}"
      ]
     },
     "execution_count": 11,
     "metadata": {},
     "output_type": "execute_result"
    }
   ],
   "source": [
    "@code_typed abs(p3)"
   ]
  },
  {
   "cell_type": "code",
   "execution_count": 12,
   "metadata": {},
   "outputs": [
    {
     "name": "stdout",
     "output_type": "stream",
     "text": [
      "\t\u001b[0m.text\n",
      "\t\u001b[0m.file\t\u001b[0m\"abs\"\n",
      "\t\u001b[0m.section\t\u001b[0m.rodata.cst16\u001b[0m,\u001b[0m\"aM\"\u001b[0m,\u001b[0m@progbits\u001b[0m,\u001b[33m16\u001b[39m\n",
      "\t\u001b[0m.p2align\t\u001b[33m4\u001b[39m                               \u001b[90m# -- Begin function julia_abs_3122\u001b[39m\n",
      "\u001b[91m.LCPI0_0:\u001b[39m\n",
      "\t\u001b[0m.quad\t\u001b[33m0x7fffffffffffffff\u001b[39m              \u001b[90m# double NaN\u001b[39m\n",
      "\t\u001b[0m.quad\t\u001b[33m0x7fffffffffffffff\u001b[39m              \u001b[90m# double NaN\u001b[39m\n",
      "\t\u001b[0m.text\n",
      "\t\u001b[0m.globl\t\u001b[0mjulia_abs_3122\n",
      "\t\u001b[0m.p2align\t\u001b[33m4\u001b[39m\u001b[0m, \u001b[33m0x90\u001b[39m\n",
      "\t\u001b[0m.type\t\u001b[0mjulia_abs_3122\u001b[0m,\u001b[0m@function\n",
      "\u001b[91mjulia_abs_3122:\u001b[39m                         \u001b[90m# @julia_abs_3122\u001b[39m\n",
      "\u001b[90m; ┌ @ In[9]:2 within `abs`\u001b[39m\n",
      "\t\u001b[0m.cfi_startproc\n",
      "\u001b[90m# %bb.0:                                # %top\u001b[39m\n",
      "\t\u001b[96m\u001b[1mpushq\u001b[22m\u001b[39m\t\u001b[0m%rbp\n",
      "\t\u001b[0m.cfi_def_cfa_offset \u001b[33m16\u001b[39m\n",
      "\t\u001b[0m.cfi_offset \u001b[0m%rbp\u001b[0m, \u001b[33m-16\u001b[39m\n",
      "\t\u001b[96m\u001b[1mmovq\u001b[22m\u001b[39m\t\u001b[0m%rsp\u001b[0m, \u001b[0m%rbp\n",
      "\t\u001b[0m.cfi_def_cfa_register \u001b[0m%rbp\n",
      "\t\u001b[96m\u001b[1mmovq\u001b[22m\u001b[39m\t\u001b[0m%rcx\u001b[0m, \u001b[0m%rax\n",
      "\u001b[90m; │ @ In[9]:2 within `abs` @ float.jl:486\u001b[39m\n",
      "\t\u001b[96m\u001b[1mvmovups\u001b[22m\u001b[39m\t\u001b[33m(\u001b[39m\u001b[0m%rdx\u001b[33m)\u001b[39m\u001b[0m, \u001b[0m%xmm0\n",
      "\t\u001b[96m\u001b[1mmovabsq\u001b[22m\u001b[39m\t\u001b[93m$.LCPI0_0\u001b[39m\u001b[0m, \u001b[0m%rcx\n",
      "\t\u001b[96m\u001b[1mvandps\u001b[22m\u001b[39m\t\u001b[33m(\u001b[39m\u001b[0m%rcx\u001b[33m)\u001b[39m\u001b[0m, \u001b[0m%xmm0\u001b[0m, \u001b[0m%xmm0\n",
      "\u001b[90m; │ @ In[9]:2 within `abs`\u001b[39m\n",
      "\t\u001b[96m\u001b[1mvmovups\u001b[22m\u001b[39m\t\u001b[0m%xmm0\u001b[0m, \u001b[33m(\u001b[39m\u001b[0m%rax\u001b[33m)\u001b[39m\n",
      "\t\u001b[96m\u001b[1mpopq\u001b[22m\u001b[39m\t\u001b[0m%rbp\n",
      "\t\u001b[96m\u001b[1mretq\u001b[22m\u001b[39m\n",
      "\u001b[91m.Lfunc_end0:\u001b[39m\n",
      "\t\u001b[0m.size\t\u001b[0mjulia_abs_3122\u001b[0m, \u001b[0m.Lfunc_end0-julia_abs_3122\n",
      "\t\u001b[0m.cfi_endproc\n",
      "\u001b[90m; └\u001b[39m\n",
      "                                        \u001b[90m# -- End function\u001b[39m\n",
      "\t\u001b[0m.section\t\u001b[0m\".note.GNU-stack\"\u001b[0m,\u001b[0m\"\"\u001b[0m,\u001b[0m@progbits\n"
     ]
    }
   ],
   "source": [
    "@code_native abs(p3)"
   ]
  },
  {
   "cell_type": "markdown",
   "metadata": {},
   "source": [
    "Since we wrote our `Point3` type in a generic way with type parameter `T` that can represent any type, our type will now automatically work together with other coordinate types. We demonstrate that here using the Measurements package to represent uncertainty."
   ]
  },
  {
   "cell_type": "code",
   "execution_count": 13,
   "metadata": {},
   "outputs": [
    {
     "name": "stderr",
     "output_type": "stream",
     "text": [
      "\u001b[32m\u001b[1m    Updating\u001b[22m\u001b[39m registry at `d:\\visser_mn\\.julia\\registries\\Deltares`\n",
      "\u001b[32m\u001b[1m    Updating\u001b[22m\u001b[39m git-repo `https://github.com/Deltares/DeltaresJuliaRegistry`\n",
      "\u001b[32m\u001b[1m    Updating\u001b[22m\u001b[39m registry at `d:\\visser_mn\\.julia\\registries\\General.toml`\n",
      "\u001b[32m\u001b[1m   Resolving\u001b[22m\u001b[39m package versions...\n",
      "\u001b[32m\u001b[1m  No Changes\u001b[22m\u001b[39m to `D:\\repo\\OGH2022\\Project.toml`\n",
      "\u001b[32m\u001b[1m  No Changes\u001b[22m\u001b[39m to `D:\\repo\\OGH2022\\Manifest.toml`\n"
     ]
    }
   ],
   "source": [
    "]add Measurements"
   ]
  },
  {
   "cell_type": "code",
   "execution_count": 14,
   "metadata": {},
   "outputs": [],
   "source": [
    "using Measurements"
   ]
  },
  {
   "cell_type": "code",
   "execution_count": 15,
   "metadata": {},
   "outputs": [
    {
     "data": {
      "text/plain": [
       "Point3{Measurement{Float64}}(1.1 ± 0.2, -2.2 ± 0.4)"
      ]
     },
     "execution_count": 15,
     "metadata": {},
     "output_type": "execute_result"
    }
   ],
   "source": [
    "# the plus minus ± symbol can be typed like \\pm<tab>\n",
    "uncertain_point = Point3(1.1 ± 0.2, -2.2 ± 0.4)"
   ]
  },
  {
   "cell_type": "code",
   "execution_count": 16,
   "metadata": {},
   "outputs": [
    {
     "data": {
      "text/plain": [
       "Point3{Measurement{Float64}}(1.1 ± 0.2, 2.2 ± 0.4)"
      ]
     },
     "execution_count": 16,
     "metadata": {},
     "output_type": "execute_result"
    }
   ],
   "source": [
    "abs(uncertain_point)"
   ]
  },
  {
   "cell_type": "markdown",
   "metadata": {},
   "source": [
    "## AbstractArrays\n",
    "\n",
    "One nice example of how the julia community makes use of these unique features, can be seen in the different array types that are available:\n",
    "\n",
    "- https://docs.julialang.org/en/v1/manual/interfaces/#man-interface-array-1\n",
    "- https://github.com/JuliaArrays\n",
    "- https://juliagpu.org/"
   ]
  }
 ],
 "metadata": {
  "kernelspec": {
   "display_name": "Julia 1.8.0",
   "language": "julia",
   "name": "julia-1.8"
  },
  "language_info": {
   "file_extension": ".jl",
   "mimetype": "application/julia",
   "name": "julia",
   "version": "1.8.0"
  }
 },
 "nbformat": 4,
 "nbformat_minor": 4
}
