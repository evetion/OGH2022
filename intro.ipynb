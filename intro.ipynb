{
 "cells": [
  {
   "cell_type": "markdown",
   "metadata": {},
   "source": [
    "# Introduction: What is Julia"
   ]
  },
  {
   "cell_type": "markdown",
   "metadata": {},
   "source": [
    "Julia is a high-level, high-performance, dynamic programming language well-suited for high-performance numerical analysis and computational science. Or, as stated by its makers; [..] each [programming language] is perfect for some aspects of the work and terrible for others. Each one is a trade-off."
   ]
  },
  {
   "cell_type": "markdown",
   "metadata": {},
   "source": [
    ">**We are greedy: we want more.**\n",
    ">We want a language that's open source, with a liberal license. We want the speed of C with the dynamism of Ruby. We want a language that's homoiconic, with true macros like Lisp, but with obvious, familiar mathematical notation like Matlab. We want something as usable for general programming as Python, as easy for statistics as R, as natural for string processing as Perl, as powerful for linear algebra as Matlab, as good at gluing programs together as the shell. Something that is dirt simple to learn, yet keeps the most serious hackers happy. We want it interactive and we want it compiled."
   ]
  },
  {
   "cell_type": "markdown",
   "metadata": {},
   "source": [
    "- Made in 2009 at MIT by Jeff Bezanson, Stefan Karpinski, Viral B. Shah, and Alan Edelman.\n",
    "- First released in 2012, v1.0 release in 2018. Currently at v1.8.0.\n",
    "- Open MIT license, developed on Github, currently at 52k commits, almost a 1000 contributors and 40k stars.\n",
    "- Only 10 years old (!)"
   ]
  },
  {
   "cell_type": "markdown",
   "metadata": {},
   "source": [
    "## Features"
   ]
  },
  {
   "cell_type": "markdown",
   "metadata": {},
   "source": [
    "---\n",
    "Julia is a dynamically typed language, like Matlab or Python, so it will try to figure out the correct types on the fly. You *can* however specify types which enable more speedups and other language features."
   ]
  },
  {
   "cell_type": "code",
   "execution_count": 5,
   "metadata": {},
   "outputs": [
    {
     "data": {
      "text/plain": [
       "exp"
      ]
     },
     "execution_count": 5,
     "metadata": {},
     "output_type": "execute_result"
    }
   ],
   "source": [
    "\"\"\"\n",
    "    exp(a, b)\n",
    "\n",
    "Generic `exp`.\n",
    "\"\"\"\n",
    "function exp(a, b)\n",
    "    a^b\n",
    "end\n",
    "\n",
    "\"\"\"\n",
    "    exp(a::Integer, b::Integer)\n",
    "\n",
    "Special case for `exp` handling of Integers.\n",
    "\"\"\"\n",
    "function exp(a::Integer, b::Integer)\n",
    "    # special sauce here\n",
    "    a^b::Integer  # this isn't required here as it is inferred\n",
    "end"
   ]
  },
  {
   "cell_type": "code",
   "execution_count": 6,
   "metadata": {},
   "outputs": [
    {
     "name": "stdout",
     "output_type": "stream",
     "text": [
      "search: \u001b[0m\u001b[1me\u001b[22m\u001b[0m\u001b[1mx\u001b[22m\u001b[0m\u001b[1mp\u001b[22m \u001b[0m\u001b[1me\u001b[22m\u001b[0m\u001b[1mx\u001b[22m\u001b[0m\u001b[1mp\u001b[22m2 \u001b[0m\u001b[1mE\u001b[22m\u001b[0m\u001b[1mx\u001b[22m\u001b[0m\u001b[1mp\u001b[22mr \u001b[0m\u001b[1me\u001b[22m\u001b[0m\u001b[1mx\u001b[22m\u001b[0m\u001b[1mp\u001b[22mm1 \u001b[0m\u001b[1me\u001b[22m\u001b[0m\u001b[1mx\u001b[22m\u001b[0m\u001b[1mp\u001b[22m10 \u001b[0m\u001b[1me\u001b[22m\u001b[0m\u001b[1mx\u001b[22m\u001b[0m\u001b[1mp\u001b[22mort \u001b[0m\u001b[1me\u001b[22m\u001b[0m\u001b[1mx\u001b[22m\u001b[0m\u001b[1mp\u001b[22monent \u001b[0m\u001b[1me\u001b[22m\u001b[0m\u001b[1mx\u001b[22m\u001b[0m\u001b[1mp\u001b[22manduser \u001b[0m\u001b[1mE\u001b[22m\u001b[0m\u001b[1mx\u001b[22m\u001b[0m\u001b[1mp\u001b[22monentialBackOff\n",
      "\n"
     ]
    },
    {
     "data": {
      "text/latex": [
       "\\begin{verbatim}\n",
       "exp(a, b)\n",
       "\\end{verbatim}\n",
       "Generic \\texttt{exp}.\n",
       "\n",
       "\\rule{\\textwidth}{1pt}\n",
       "\\begin{verbatim}\n",
       "exp(a::Integer, b::Integer)\n",
       "\\end{verbatim}\n",
       "Special case for \\texttt{exp} handling of Integers.\n",
       "\n"
      ],
      "text/markdown": [
       "```\n",
       "exp(a, b)\n",
       "```\n",
       "\n",
       "Generic `exp`.\n",
       "\n",
       "---\n",
       "\n",
       "```\n",
       "exp(a::Integer, b::Integer)\n",
       "```\n",
       "\n",
       "Special case for `exp` handling of Integers.\n"
      ],
      "text/plain": [
       "\u001b[36m  exp(a, b)\u001b[39m\n",
       "\n",
       "  Generic \u001b[36mexp\u001b[39m.\n",
       "\n",
       "  ────────────────────────────────────────────────────────────────────────────\n",
       "\n",
       "\u001b[36m  exp(a::Integer, b::Integer)\u001b[39m\n",
       "\n",
       "  Special case for \u001b[36mexp\u001b[39m handling of Integers."
      ]
     },
     "execution_count": 6,
     "metadata": {},
     "output_type": "execute_result"
    }
   ],
   "source": [
    "?exp"
   ]
  },
  {
   "cell_type": "markdown",
   "metadata": {},
   "source": [
    "---\n",
    "User-defined types are as fast and compact as built-ins. This means that creating your own types is fully supported and with a few lines can be  understood by the ecosystem."
   ]
  },
  {
   "cell_type": "code",
   "execution_count": 3,
   "metadata": {},
   "outputs": [
    {
     "data": {
      "text/plain": [
       "Measurement(2.0, 0.2)"
      ]
     },
     "execution_count": 3,
     "metadata": {},
     "output_type": "execute_result"
    }
   ],
   "source": [
    "struct Measurement\n",
    "    val::Float64\n",
    "    err::Float64\n",
    "end\n",
    "Base.:*(m::Measurement, other::Number) = Measurement(m.val * other, m.err * other)\n",
    "Measurement(1.0, 0.1) * 2.0"
   ]
  },
  {
   "cell_type": "markdown",
   "metadata": {},
   "source": [
    "---\n",
    "Call C or Fortran functions directly (no wrappers or special APIs needed). Many of the types are identical, so they can be load/cast without copies. Python interopability is also supported with PyCall.jl"
   ]
  },
  {
   "cell_type": "code",
   "execution_count": 4,
   "metadata": {},
   "outputs": [
    {
     "data": {
      "text/plain": [
       "5567631"
      ]
     },
     "execution_count": 4,
     "metadata": {},
     "output_type": "execute_result"
    }
   ],
   "source": [
    "ccall(:clock, Int32, ())"
   ]
  },
  {
   "cell_type": "markdown",
   "metadata": {},
   "source": [
    "---\n",
    "Efficient support for Unicode, including but not limited to UTF-8. This means you could just type your equations without unclear renaming."
   ]
  },
  {
   "cell_type": "code",
   "execution_count": 5,
   "metadata": {},
   "outputs": [
    {
     "name": "stdout",
     "output_type": "stream",
     "text": [
      "3.141592653589793\n"
     ]
    },
    {
     "data": {
      "text/plain": [
       "3"
      ]
     },
     "execution_count": 5,
     "metadata": {},
     "output_type": "execute_result"
    }
   ],
   "source": [
    "# use actual example\n",
    "using Statistics\n",
    "values = [1,2,3,4,5]\n",
    "√(sum((values .- mean(values)).^2) / (length(values) - 1))\n",
    "\n",
    "println(π * 1.0)\n",
    "\n",
    "🎲() = rand(1:6)  # you can go too far... 😜\n",
    "🎲()"
   ]
  },
  {
   "cell_type": "markdown",
   "metadata": {},
   "source": [
    "---\n",
    "No need to vectorize code for performance; devectorized code is fast. Just write out your ```for``` loops."
   ]
  },
  {
   "cell_type": "code",
   "execution_count": 4,
   "metadata": {},
   "outputs": [
    {
     "name": "stdout",
     "output_type": "stream",
     "text": [
      "  0.005575 seconds (36 allocations: 1.828 KiB)\n"
     ]
    },
    {
     "name": "stderr",
     "output_type": "stream",
     "text": [
      "┌ Info: 1.6448340718480652\n",
      "└ @ Main In[4]:13\n"
     ]
    },
    {
     "ename": "LoadError",
     "evalue": "MethodError: no method matching ^(::UnitRange{Int64}, ::Int64)\n\u001b[0mClosest candidates are:\n\u001b[0m  ^(\u001b[91m::Union{AbstractChar, AbstractString}\u001b[39m, ::Integer) at strings/basic.jl:730\n\u001b[0m  ^(\u001b[91m::Rational\u001b[39m, ::Integer) at rational.jl:477\n\u001b[0m  ^(\u001b[91m::Complex{<:AbstractFloat}\u001b[39m, ::Integer) at complex.jl:860\n\u001b[0m  ...",
     "output_type": "error",
     "traceback": [
      "MethodError: no method matching ^(::UnitRange{Int64}, ::Int64)\n\u001b[0mClosest candidates are:\n\u001b[0m  ^(\u001b[91m::Union{AbstractChar, AbstractString}\u001b[39m, ::Integer) at strings/basic.jl:730\n\u001b[0m  ^(\u001b[91m::Rational\u001b[39m, ::Integer) at rational.jl:477\n\u001b[0m  ^(\u001b[91m::Complex{<:AbstractFloat}\u001b[39m, ::Integer) at complex.jl:860\n\u001b[0m  ...",
      "",
      "Stacktrace:",
      "  [1] literal_pow",
      "    @ ./intfuncs.jl:340 [inlined]",
      "  [2] _broadcast_getindex_evalf",
      "    @ ./broadcast.jl:670 [inlined]",
      "  [3] _broadcast_getindex",
      "    @ ./broadcast.jl:643 [inlined]",
      "  [4] _getindex",
      "    @ ./broadcast.jl:667 [inlined]",
      "  [5] _getindex",
      "    @ ./broadcast.jl:666 [inlined]",
      "  [6] _broadcast_getindex",
      "    @ ./broadcast.jl:642 [inlined]",
      "  [7] getindex",
      "    @ ./broadcast.jl:597 [inlined]",
      "  [8] copy",
      "    @ ./broadcast.jl:899 [inlined]",
      "  [9] materialize",
      "    @ ./broadcast.jl:860 [inlined]",
      " [10] pisumvec()",
      "    @ Main ./In[4]:20",
      " [11] macro expansion",
      "    @ ./logging.jl:360 [inlined]",
      " [12] top-level scope",
      "    @ ./timing.jl:263 [inlined]",
      " [13] top-level scope",
      "    @ ./In[4]:0",
      " [14] eval",
      "    @ ./boot.jl:368 [inlined]",
      " [15] include_string(mapexpr::typeof(REPL.softscope), mod::Module, code::String, filename::String)",
      "    @ Base ./loading.jl:1428"
     ]
    }
   ],
   "source": [
    "# Give also the vectorized notation\n",
    "\n",
    "function pisum()\n",
    "    sum = 0.0\n",
    "    for j = 1:500\n",
    "        sum = 0.0\n",
    "        for k = 1:10000\n",
    "            sum += 1.0/(k*k)\n",
    "        end\n",
    "    end\n",
    "    sum\n",
    "end\n",
    "@time pisum()  # note that you want to precompile functions and you need a proper benchmark, please use BenchmarkTools\n",
    "\n",
    "# For completeness, the vectorized notation\n",
    "function pisumvec()\n",
    "    s = 0.0\n",
    "    a = [1:10000]\n",
    "    for j = 1:500\n",
    "        s = 0.0\n",
    "        s = sum(1 ./ (a.^2))\n",
    "    end\n",
    "    s\n",
    "end"
   ]
  },
  {
   "cell_type": "markdown",
   "metadata": {},
   "source": [
    "---\n",
    "Full support for Multi-Dimensional Arrays. Unlike Python, which needs Numpy for arrays (itself built in Fortran btw), Julia support multi-dimensional arrays out of the box."
   ]
  },
  {
   "cell_type": "code",
   "execution_count": 7,
   "metadata": {},
   "outputs": [
    {
     "data": {
      "text/plain": [
       "5-element Vector{Int64}:\n",
       "  1\n",
       "  4\n",
       "  9\n",
       " 16\n",
       " 25"
      ]
     },
     "execution_count": 7,
     "metadata": {},
     "output_type": "execute_result"
    }
   ],
   "source": [
    "A = rand(5)  # random\n",
    "B = ones(5,2,3)  # 5x2x3 array of 1s\n",
    "C = Matrix(undef, 5, 5)  # initialize without (re)setting memory values\n",
    "\n",
    "[1,2,3,4,5] .* [1,2,3,4,5]"
   ]
  },
  {
   "cell_type": "markdown",
   "metadata": {},
   "source": [
    "---\n",
    "Lisp-like macros and other metaprogramming facilities. Julia represents its own code as a data structure of the language itself. This enables macros, but in the end *anything* you can think of. We've used it to generate thousands of lines of code that would normally have to be handwritten. It's really programming your programming.\n"
   ]
  },
  {
   "cell_type": "code",
   "execution_count": 7,
   "metadata": {},
   "outputs": [
    {
     "name": "stdout",
     "output_type": "stream",
     "text": [
      "Expr 1 + 1\n",
      "call\n",
      "Any[:+, 1, 1]\n"
     ]
    },
    {
     "data": {
      "text/plain": [
       "true"
      ]
     },
     "execution_count": 7,
     "metadata": {},
     "output_type": "execute_result"
    }
   ],
   "source": [
    "# Everything's a string first\n",
    "prog = \"1 + 1\"\n",
    "ex1 = Meta.parse(prog)\n",
    "println(\"$(typeof(ex1)) $ex1\")\n",
    "\n",
    "# An expression has a head and args\n",
    "println(ex1.head)\n",
    "println(ex1.args)\n",
    "\n",
    "# You can create this yourself as well\n",
    "ex2 = Expr(:call, :+, 1, 1)\n",
    "ex2 == ex1"
   ]
  },
  {
   "cell_type": "markdown",
   "metadata": {},
   "source": [
    "---\n",
    "A built in package manager. This prevents the need for many distributions and or tools such as anaconda and pip."
   ]
  },
  {
   "cell_type": "code",
   "execution_count": 8,
   "metadata": {},
   "outputs": [
    {
     "name": "stdout",
     "output_type": "stream",
     "text": [
      "\u001b[32m\u001b[1m      Status\u001b[22m\u001b[39m `~/code/Project.toml`\n",
      " \u001b[90m [7876af07] \u001b[39mExample v0.5.3\n",
      " \u001b[90m [eff96d63] \u001b[39mMeasurements v2.7.2\n",
      " \u001b[90m [b8865327] \u001b[39mUnicodePlots v3.0.7\n"
     ]
    }
   ],
   "source": [
    "]st"
   ]
  },
  {
   "cell_type": "markdown",
   "metadata": {},
   "source": [
    "## Use\n",
    "Julia is used by many companies around the world. Noticable uses include financial analysis by investors/banks. Of interest to us is the [Celeste](https://github.com/jeff-regier/Celeste.jl) project in 2017 where Julia was used or astronomical analysis to achieve 1.54 petaFLOPS using 1.3 million threads on a supercomputer. And the \n",
    "Climate Modeling Alliance (CLIMA) who use Julia for their next-gen global climate model [Oceananigans.jl](https://github.com/CliMA/Oceananigans.jl.).\n",
    "\n"
   ]
  },
  {
   "cell_type": "markdown",
   "metadata": {},
   "source": [
    "At Deltares, Julia was first tried out when working on large scale pointclouds by Martijn. Python was too slow, but C++ was a step too far. The language was still in its infancy, so there were some issues, but it generally worked well and enabled us to process the billions of points for our project in Indonesia. The used and generated packages are now part of JuliaGeo: https://juliageo.org/, with geospatial libraries linked such as GDAL, GEOS, Proj etc."
   ]
  },
  {
   "cell_type": "markdown",
   "metadata": {},
   "source": [
    "## When to use\n",
    "This lecture aims at giving you a good introduction to Julia and to understand when you could choose to use it. We do not propose you dump Python, Matlab, Fortran or C++ now (well, maybe Matlab). As described above, we think the clear use case for Julia is technical computing. Domain specific programs that require High Performance Computing (HPC).\n",
    "\n",
    "The main drawback of Julia is the young ecosystem, while there are multiple state of the art libraries, mainly focused on computing, the ecosystem is lacking for more general programming, compared to a language like Python.\n",
    "\n",
    "We still use Python a lot for simple scripts or webservices and advise you to keep doing that.\n"
   ]
  },
  {
   "cell_type": "markdown",
   "metadata": {},
   "source": [
    "## Excercise\n",
    "Please try to make a function that:\n",
    "- prints \"Hello World\"\n",
    "- takes a `name` argument and prints \"Hello Maarten\" if the given name is \"Maarten\"\n",
    "- takes a `name` argument but prints \"Hello World\" if the give name is empty\n",
    "\n",
    "See the manual to help you out https://docs.julialang.org/en/v1/manual/functions/"
   ]
  },
  {
   "cell_type": "code",
   "execution_count": 10,
   "metadata": {},
   "outputs": [],
   "source": [
    "# please write your function here. Shift enter or the play button above executes it"
   ]
  }
 ],
 "metadata": {
  "kernelspec": {
   "display_name": "Julia 1.8 1.8.0",
   "language": "julia",
   "name": "julia-1.8-1.8"
  },
  "language_info": {
   "file_extension": ".jl",
   "mimetype": "application/julia",
   "name": "julia",
   "version": "1.8.0"
  }
 },
 "nbformat": 4,
 "nbformat_minor": 4
}
